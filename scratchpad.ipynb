{
 "metadata": {
  "language_info": {
   "codemirror_mode": {
    "name": "ipython",
    "version": 3
   },
   "file_extension": ".py",
   "mimetype": "text/x-python",
   "name": "python",
   "nbconvert_exporter": "python",
   "pygments_lexer": "ipython3",
   "version": "3.6.9-final"
  },
  "orig_nbformat": 2,
  "kernelspec": {
   "name": "Python 3.6.9 64-bit ('learn-env': conda)",
   "display_name": "Python 3.6.9 64-bit ('learn-env': conda)",
   "metadata": {
    "interpreter": {
     "hash": "9ac4d3343b464ceb9c6b349fee6aeea784c980ce57d0bbc1775a5f7d482c030a"
    }
   }
  }
 },
 "nbformat": 4,
 "nbformat_minor": 2,
 "cells": [
  {
   "cell_type": "code",
   "execution_count": 7,
   "metadata": {},
   "outputs": [],
   "source": [
    "import numpy as np \n",
    "\n",
    "def check_advantage(dice_sides):\n",
    "    if dice_sides[-1] == 'a':\n",
    "        return 1\n",
    "    if dice_sides[-1] == 'd':\n",
    "        return -1\n",
    "    else:\n",
    "        return 0\n",
    "\n",
    "def split_input(string):\n",
    "    return string.split(',')\n",
    "\n",
    "def comment_criticals(message, fails, hits):\n",
    "    if fails == 1:\n",
    "        message += f'. 1 CRITICAL FAILURE'\n",
    "    if hits == 1:\n",
    "        message += f'. 1 CRITICAL SUCCESS'\n",
    "    if fails > 1:\n",
    "        message += f'. {fails} CRITICAL FAILURES'\n",
    "    if hits > 1:\n",
    "        message += f'. {hits} CRITICAL SUCCESSES!'\n",
    "    return message\n",
    "\n",
    "def check_if_modifier(dice_input):\n",
    "    first_character = dice_input.strip()[0]\n",
    "    if first_character == '+':\n",
    "        return 1\n",
    "    if first_character == '-':\n",
    "        return -1\n",
    "    if first_character != '+' and first_character != '-':\n",
    "        return 0\n",
    "\n",
    "def check_if_dice_modifier(roll_list):\n",
    "    for i in range(0, len(roll_list)):\n",
    "        if i != len(roll_list)-1:\n",
    "            if roll_list[i+1]['is_modifier'] == 1 or roll_list[i+1]['is_modifier'] == -1:\n",
    "                roll_list[i]['has_dice_modifier'] = True\n",
    "            else:\n",
    "                roll_list[i]['has_dice_modifier'] = False\n",
    "    else:\n",
    "         roll_list[i]['has_dice_modifier'] = False\n",
    "\n",
    "def split_roll(input):\n",
    "    split_1 = input.split('d', 1)\n",
    "    try:\n",
    "        dice_count = int(split_1[0].strip())\n",
    "    except:\n",
    "        dice_count = 1\n",
    "    if '+' not in split_1[1] and '-' not in split_1[1]:\n",
    "        dice_sides = split_1[1].strip()\n",
    "        advantage = check_advantage(dice_sides)\n",
    "        if advantage == 0:\n",
    "            dice_sides = int(dice_sides)\n",
    "        else:\n",
    "            dice_sides = int(dice_sides[0:-1])\n",
    "        modifier = 0\n",
    "        return dice_count, dice_sides, advantage, modifier\n",
    "    if '+' in split_1[1]:\n",
    "        split_2 = split_1[1].split('+')\n",
    "        modifier = int(split_2[1].strip())\n",
    "        dice_sides = split_2[0].strip()\n",
    "        advantage = check_advantage(dice_sides)\n",
    "        if advantage == 0:\n",
    "            dice_sides = int(dice_sides)\n",
    "        else:\n",
    "            dice_sides = int(dice_sides[0:-1])\n",
    "        return dice_count, dice_sides, advantage, modifier\n",
    "    if '-' in split_1[1]:\n",
    "        split_2 = split_1[1].split('-')\n",
    "        modifier = 0 - int(split_2[1].strip())\n",
    "        dice_sides = split_2[0].strip()\n",
    "        advantage = check_advantage(dice_sides)\n",
    "        if advantage == 0:\n",
    "            dice_sides = int(dice_sides)\n",
    "        else:\n",
    "            dice_sides = int(dice_sides[0:-1])\n",
    "        return dice_count, dice_sides, advantage, modifier\n",
    "\n",
    "def count_criticals(rolls):\n",
    "    critical_fails = np.count_nonzero(1 == rolls)\n",
    "    critical_hits = np.count_nonzero(20 == rolls)\n",
    "    return critical_fails, critical_hits\n",
    "\n",
    "def roll_dice(dice_count, dice_sides, advantage):\n",
    "    if advantage == 1 or advantage == -1:\n",
    "        rolls = []\n",
    "        for i in range(0, dice_count):\n",
    "            rolls.append(np.random.randint(1, dice_sides+1, 2))\n",
    "        fails, hits = 0, 0\n",
    "        if dice_sides == 20:\n",
    "            fails, hits = count_criticals(rolls)\n",
    "        return rolls, fails, hits\n",
    "    else:\n",
    "        rolls = np.random.randint(1, dice_sides+1, dice_count)\n",
    "        fails, hits = 0, 0\n",
    "        if dice_sides == 20:\n",
    "            fails, hits = count_criticals(rolls)\n",
    "        return rolls, fails, hits\n",
    "\n",
    "\n",
    "\n",
    "def roll_them_dice(user_input_string):\n",
    "    to_roll = split_input(user_input_string)\n",
    "    roll_list = []\n",
    "    roll_number = 0\n",
    "\n",
    "#get the info for each dice\n",
    "    for roll in to_roll:\n",
    "        roll_dict = {}\n",
    "        roll_dict['is_modifier'] = check_if_modifier(roll)\n",
    "        if roll_dict['is_modifier'] == 0:\n",
    "            roll_dict['dice_count'], roll_dict['dice_sides'], roll_dict['advantage'], roll_dict['modifier'] = split_roll(roll)\n",
    "            roll_dict['roll_number'] = roll_number\n",
    "            roll_list.append(roll_dict)\n",
    "            roll_number += 1\n",
    "        else: \n",
    "            roll_dict['dice_count'], roll_dict['dice_sides'], roll_dict['advantage'], roll_dict['modifier'] = split_roll(roll.strip()[1:])\n",
    "            roll_dict['roll_number'] = roll_number\n",
    "            roll_list.append(roll_dict)\n",
    "            roll_number += 1\n",
    "\n",
    "    for roll in roll_list:\n",
    "        roll['result'], roll['fails'], roll['hits'] = roll_dice(roll['dice_count'], roll['dice_sides'], roll['advantage'])\n",
    "\n",
    "    check_if_dice_modifier(roll_list)\n",
    "\n",
    "    roll_number = 0\n",
    "# having collected the info for each dice, we now turn these into outputs \n",
    "\n",
    "    for roll in roll_list:\n",
    "# for very simple rolls of a single dice with no modifiers or advantage\n",
    "        if roll['dice_count'] == 1 and roll['is_modifier'] == 0 and roll['modifier'] == 0 and roll['has_dice_modifier'] == 0 and roll['advantage'] == 0:\n",
    "            result_string = str((roll['result']))[1:-1]\n",
    "            message = f' rolled **{result_string}**.'\n",
    "            roll['message'] = message\n",
    "\n",
    "# for rolls (like damage rolls) that are not d20 and don't have advantage\n",
    "        elif roll['dice_sides'] != 20 and roll['is_modifier'] == 0 and roll['advantage'] == 0:\n",
    "            try:\n",
    "                if roll['has_dice_modifier']:\n",
    "                    modifier_2 = roll_list[roll_number+1]['result'].sum() + roll_list[roll_number+1]['modifier']\n",
    "                    if roll_list[roll_number+1]['is_modifier'] == -1:\n",
    "                        modifier_2 = -1 * modifier_2\n",
    "                else:\n",
    "                    modifier_2 = 0\n",
    "            except:\n",
    "                modifier_2 = 0\n",
    "            total_modifier = roll['modifier'] + modifier_2\n",
    "            final_roll = roll['result'].sum() + total_modifier\n",
    "            sum_statement = ''\n",
    "            modifier_string = ''\n",
    "            if roll['modifier'] != 0:\n",
    "                modifier_string = ' + ' + str(roll['modifier'])\n",
    "            if modifier_2 != 0:\n",
    "                modifier_string += f' + {str(modifier_2)}'\n",
    "            for i in range(0, len(roll['result'])):\n",
    "                if i != len(roll['result'])-1:\n",
    "                    roll_string = str(roll['result'][i])\n",
    "                    sum_statement += f'{roll_string} + '\n",
    "                else:\n",
    "                    sum_statement += str(roll['result'][i])\n",
    "            message = f' rolled **{final_roll}**. (({sum_statement}){modifier_string} = {final_roll})'\n",
    "            fails, hits = count_criticals(roll['result'])\n",
    "            roll['message'] = message\n",
    "\n",
    "# for rolls with advantage we will want to see all the rolls + modifiers\n",
    "        elif roll['dice_sides'] == 20 and roll['advantage'] != 0 and roll['is_modifier'] == 0:\n",
    "            try:\n",
    "                if roll['has_dice_modifier']:\n",
    "                    modifier_2 = roll_list[roll_number+1]['result'].sum() + roll_list[roll_number+1]['modifier']\n",
    "                    if roll_list[roll_number+1]['is_modifier'] == -1:\n",
    "                        modifier_2 = -1 * modifier_2\n",
    "                else:\n",
    "                    modifier_2 = 0\n",
    "            except:\n",
    "                modifier_2 = 0\n",
    "            total_modifier = roll['modifier'] + modifier_2\n",
    "            if roll['advantage'] == 1:\n",
    "                outcomes = [x.max() for x in roll['result']]\n",
    "            if roll['advantage'] == -1:\n",
    "                outcomes = [x.min() for x in roll['result']]\n",
    "            final_outcomes = np.array(outcomes) + total_modifier\n",
    "            final_outcomes_statement = str(list(final_outcomes))[1:-1].strip().replace('  ', ' ').replace(' ', ' & ')\n",
    "            final_outcomes_formatted = final_outcomes_statement.replace(' & ', '** & **').replace(',', ' ')\n",
    "            # make a string for modifiers\n",
    "            modifier_string = ''\n",
    "            if roll['modifier'] != 0:\n",
    "                modifier_string = ' + ' + str(roll['modifier'])\n",
    "            if modifier_2 != 0:\n",
    "                modifier_string += f' + {str(modifier_2)}'\n",
    "            sum_statement = ''\n",
    "            for i in range(0, len(roll['result'])):\n",
    "                roll_tuple = roll['result'][i]\n",
    "                if roll['advantage'] == 1:\n",
    "                    if i != len(roll['result'])-1:\n",
    "                        sum_statement += f'({roll_tuple.min()} , **{roll_tuple.max()}**){modifier_string} = {final_outcomes[i]}, '\n",
    "                    else:\n",
    "                        sum_statement += f'({roll_tuple.min()} , **{roll_tuple.max()}**){modifier_string} = {final_outcomes[i]}'\n",
    "                if roll['advantage'] == -1:\n",
    "                    if i != len(roll['result'])-1:\n",
    "                        sum_statement += f'(**{roll_tuple.min()}** , {roll_tuple.max()}){modifier_string} = {final_outcomes[i]}, '\n",
    "                    else:\n",
    "                        sum_statement += f'(**{roll_tuple.min()}** , {roll_tuple.max()}){modifier_string} = {final_outcomes[i]}'\n",
    "            message = f' rolled **{final_outcomes_formatted}**. ({sum_statement})'\n",
    "            fails, hits = count_criticals(roll['result'])\n",
    "            message = comment_criticals(message, fails, hits)\n",
    "            roll['message'] = message\n",
    "\n",
    "# for rolls of d20 that do not have advantage, where we want to see each roll + modifiers\n",
    "        elif roll['dice_sides'] == 20 and roll['advantage'] == 0 and roll['is_modifier'] == 0:\n",
    "            try:\n",
    "                if roll['has_dice_modifier']:\n",
    "                    modifier_2 = roll_list[roll_number+1]['result'].sum() + roll_list[roll_number+1]['modifier']\n",
    "                    if roll_list[roll_number+1]['is_modifier'] == -1:\n",
    "                        modifier_2 = -1 * modifier_2\n",
    "                else:\n",
    "                    modifier_2 = 0\n",
    "            except:\n",
    "                modifier_2 = 0\n",
    "            total_modifier = roll['modifier'] + modifier_2\n",
    "            final_outcomes = np.array(roll['result']) + total_modifier\n",
    "            final_outcomes_statement = str(final_outcomes)[1:-1].strip().replace('  ', ' ').replace(' ', ' & ')\n",
    "            final_outcomes_formatted = final_outcomes_statement.replace(' & ', '** & **')\n",
    "            modifier_string = ''\n",
    "            if roll['modifier'] != 0:\n",
    "                modifier_string = ' + ' + str(roll['modifier'])\n",
    "            if modifier_2 != 0:\n",
    "                modifier_string += f' + {str(modifier_2)}'\n",
    "            sum_statement = ''\n",
    "            if modifier_string != '':\n",
    "                for i in range(0, len(roll['result'])):\n",
    "                    result_str = str(roll['result'][i])\n",
    "                    if i != len(roll['result'])-1:\n",
    "                        sum_statement += f'({result_str}){modifier_string} = {final_outcomes[i]}, '\n",
    "                    else:\n",
    "                        sum_statement += f'({result_str}){modifier_string} = {final_outcomes[i]}'\n",
    "                sum_statement = f'({sum_statement})'\n",
    "            message = f' rolled **{final_outcomes_formatted}**. {sum_statement}'\n",
    "            fails, hits = count_criticals(roll['result'])\n",
    "            message = comment_criticals(message, fails, hits)\n",
    "            roll['message'] = message\n",
    "    roll_number += 1\n",
    "\n",
    "    return roll_list\n",
    "\n",
    "\n",
    "\n"
   ]
  },
  {
   "cell_type": "code",
   "execution_count": 175,
   "metadata": {},
   "outputs": [],
   "source": [
    "here = '1d20+5, +d6, +d5'"
   ]
  },
  {
   "cell_type": "code",
   "execution_count": 178,
   "metadata": {},
   "outputs": [
    {
     "output_type": "stream",
     "name": "stdout",
     "text": [
      " rolled **17**. ((9) + 8 = 17)\n rolled **10**. ((8 + 1) + 1 = 10)\n rolled **11**. ((7 + 4) = 11)\n rolled **12** & **20** & **8**. ((8) + 4 = 12, (16) + 4 = 20, (4) + 4 = 8)\n rolled **17 ** & **21**. ((2 , **16**) + 1 = 17, (4 , **20**) + 1 = 21)\n rolled **22 ** & **15 ** & **25**. ((9 , **13**) + 1 + 8 = 22, (2 , **6**) + 1 + 8 = 15, (4 , **16**) + 1 + 8 = 25)\n rolled **19** & **18**. \n rolled **3**.\n"
     ]
    }
   ],
   "source": [
    "rolls = roll_them_dice(here)\n",
    "for roll in rolls:\n",
    "    try:\n",
    "        print(roll['message'])\n",
    "    except:\n",
    "        pass"
   ]
  },
  {
   "cell_type": "code",
   "execution_count": 177,
   "metadata": {},
   "outputs": [],
   "source": [
    "here = 'd20, + 2d6, 2d8+1, 2d8, 3d20+4, 2d20a+1, 3d20a+1, +d3, 2d20, 1d10'"
   ]
  },
  {
   "cell_type": "code",
   "execution_count": 156,
   "metadata": {},
   "outputs": [
    {
     "output_type": "execute_result",
     "data": {
      "text/plain": [
       "[{'is_modifier': 0,\n",
       "  'dice_count': 1,\n",
       "  'dice_sides': 20,\n",
       "  'advantage': 0,\n",
       "  'modifier': 5,\n",
       "  'roll_number': 0,\n",
       "  'result': array([2]),\n",
       "  'fails': 0,\n",
       "  'hits': 0,\n",
       "  'has_dice_modifier': True,\n",
       "  'message': ' rolled **10**. '},\n",
       " {'is_modifier': 1,\n",
       "  'dice_count': 1,\n",
       "  'dice_sides': 6,\n",
       "  'advantage': 0,\n",
       "  'modifier': 0,\n",
       "  'roll_number': 1,\n",
       "  'result': array([3]),\n",
       "  'fails': 0,\n",
       "  'hits': 0,\n",
       "  'has_dice_modifier': False}]"
      ]
     },
     "metadata": {},
     "execution_count": 156
    }
   ],
   "source": [
    "rolls"
   ]
  },
  {
   "cell_type": "code",
   "execution_count": null,
   "metadata": {},
   "outputs": [],
   "source": []
  },
  {
   "cell_type": "code",
   "execution_count": 5,
   "metadata": {},
   "outputs": [
    {
     "output_type": "execute_result",
     "data": {
      "text/plain": [
       "('~roll', ' d20')"
      ]
     },
     "metadata": {},
     "execution_count": 5
    }
   ],
   "source": [
    "message = '~roll d20'\n",
    "message[0:5], message[5:]"
   ]
  },
  {
   "cell_type": "code",
   "execution_count": 8,
   "metadata": {},
   "outputs": [
    {
     "output_type": "execute_result",
     "data": {
      "text/plain": [
       "[{'is_modifier': 0,\n",
       "  'dice_count': 1,\n",
       "  'dice_sides': 20,\n",
       "  'advantage': 0,\n",
       "  'modifier': 0,\n",
       "  'roll_number': 0,\n",
       "  'result': array([14]),\n",
       "  'fails': 0,\n",
       "  'hits': 0,\n",
       "  'has_dice_modifier': False,\n",
       "  'message': ' rolled **14**.'}]"
      ]
     },
     "metadata": {},
     "execution_count": 8
    }
   ],
   "source": [
    "roll_them_dice(message[5:])"
   ]
  },
  {
   "cell_type": "code",
   "execution_count": null,
   "metadata": {},
   "outputs": [],
   "source": []
  },
  {
   "cell_type": "code",
   "execution_count": null,
   "metadata": {},
   "outputs": [],
   "source": []
  },
  {
   "cell_type": "code",
   "execution_count": null,
   "metadata": {},
   "outputs": [],
   "source": []
  },
  {
   "cell_type": "code",
   "execution_count": 130,
   "metadata": {},
   "outputs": [
    {
     "output_type": "stream",
     "name": "stdout",
     "text": [
      "!r bird\n"
     ]
    }
   ],
   "source": [
    "mess = '!r bird'\n",
    "if mess[0:3] == '!r ':\n",
    "    print(mess)"
   ]
  },
  {
   "cell_type": "code",
   "execution_count": null,
   "metadata": {},
   "outputs": [],
   "source": []
  },
  {
   "cell_type": "code",
   "execution_count": null,
   "metadata": {},
   "outputs": [],
   "source": []
  },
  {
   "cell_type": "code",
   "execution_count": null,
   "metadata": {},
   "outputs": [],
   "source": []
  },
  {
   "cell_type": "code",
   "execution_count": null,
   "metadata": {},
   "outputs": [],
   "source": []
  },
  {
   "cell_type": "code",
   "execution_count": null,
   "metadata": {},
   "outputs": [],
   "source": []
  },
  {
   "cell_type": "code",
   "execution_count": null,
   "metadata": {},
   "outputs": [],
   "source": []
  },
  {
   "cell_type": "code",
   "execution_count": 2,
   "metadata": {},
   "outputs": [
    {
     "output_type": "execute_result",
     "data": {
      "text/plain": [
       "' rolled **55**. ((5 , **20**) + (6 , **11**) + (4 , **6**) + (3 , **14**)) + 4 = 55)'"
      ]
     },
     "metadata": {},
     "execution_count": 2
    }
   ],
   "source": [
    "dice_count, dice_sides, advantage, modifier = split_roll('4d20a+4')\n",
    "result, fails, hits = roll_dice(dice_count, dice_sides, advantage)\n",
    "\n",
    "build_message(result, modifier, fails, hits, advantage)"
   ]
  },
  {
   "cell_type": "code",
   "execution_count": null,
   "metadata": {},
   "outputs": [],
   "source": []
  },
  {
   "cell_type": "code",
   "execution_count": null,
   "metadata": {},
   "outputs": [],
   "source": []
  },
  {
   "source": [
    "### outline:\n",
    "\n",
    "1. split the input into different dice rolls\n",
    "\n",
    "2. for each dice roll, tell if it is to be:\n",
    "- added to first\n",
    "- subtracted from first\n",
    "- rolled as an independent additional roll\n",
    "\n",
    "3. for each roll, generate:\n",
    "- number of dice\n",
    "- sides of dice\n",
    "- modifiers\n",
    "- whether it has advantage, disadvantage, or neither\n",
    "\n",
    "4. roll each dice and store the values\n",
    "\n",
    "5. "
   ],
   "cell_type": "markdown",
   "metadata": {}
  },
  {
   "cell_type": "code",
   "execution_count": 105,
   "metadata": {},
   "outputs": [],
   "source": [
    "def roll_them_dice(user_input_string):\n",
    "    to_roll = split_input(user_input_string)\n",
    "    roll_list = []\n",
    "    roll_number = 0\n",
    "\n",
    "    for roll in split_input(example):\n",
    "        roll_dict = {}\n",
    "        roll_dict['is_modifier'] = check_if_modifier(roll)\n",
    "        if roll_dict['is_modifier'] == 0:\n",
    "            roll_dict['dice_count'], roll_dict['dice_sides'], roll_dict['advantage'], roll_dict['modifier'] = split_roll(roll)\n",
    "            roll_dict['roll_number'] = roll_number\n",
    "            roll_list.append(roll_dict)\n",
    "            roll_number += 1\n",
    "        else: \n",
    "            roll_dict['dice_count'], roll_dict['dice_sides'], roll_dict['advantage'], roll_dict['modifier'] = split_roll(roll.strip()[1:])\n",
    "            roll_dict['roll_number'] = roll_number\n",
    "            roll_list.append(roll_dict)\n",
    "            roll_number += 1\n",
    "\n",
    "    for roll in roll_list:\n",
    "        roll['result'], roll['fails'], roll['hits'] = roll_dice(roll['dice_count'], roll['dice_sides'], roll['advantage'])\n",
    "\n",
    "    check_if_dice_modifier(roll_list)\n",
    "\n",
    "    roll_number = 0\n",
    "# having collected the info for each dice, we now turn these into outputs \n",
    "\n",
    "    for roll in roll_list:\n",
    "# for very simple rolls of a single dice with no modifiers or advantage\n",
    "        if roll['dice_count'] == 1 and roll['is_modifier'] == 0 and roll['modifier'] == 0:\n",
    "            result_string = str(roll['result'])[1:-1]\n",
    "            message = f' rolled **{result_string}**.'\n",
    "            roll['message'] = message\n",
    "\n",
    "# for rolls (like damage rolls) that are not d20 and don't have advantage\n",
    "        elif roll['dice_sides'] != 20 and roll['is_modifier'] == 0 and roll['advantage'] == 0:\n",
    "            try:\n",
    "                if roll['has_dice_modifier']:\n",
    "                    modifier_2 = roll_list[roll_number+1]['result'].sum() + roll_list[roll_number+1]['modifier']\n",
    "                    if roll_list[roll_number+1]['is_modifier'] == -1:\n",
    "                        modifier_2 = -1 * modifier_2\n",
    "                else:\n",
    "                    modifier_2 = 0\n",
    "            except:\n",
    "                modifier_2 = 0\n",
    "            total_modifier = roll['modifier'] + modifier_2\n",
    "            final_roll = roll['result'].sum() + total_modifier\n",
    "            sum_statement = ''\n",
    "            if roll['modifier'] != 0:\n",
    "                modifier_string = ' + ' + str(roll['modifier'])\n",
    "            if modifier_2 != 0:\n",
    "                modifier_string += f' + {str(modifier_2)}'\n",
    "            for i in range(0, len(roll['result'])):\n",
    "                if i != len(roll['result'])-1:\n",
    "                    roll_string = str(roll['result'][i])\n",
    "                    sum_statement += f'{roll_string} + '\n",
    "                else:\n",
    "                    sum_statement += str(roll['result'][i])\n",
    "            modifier_string = str(roll['modifier'])\n",
    "            if modifier_2 == 0:\n",
    "                message = f' rolled **{final_roll}**. (({sum_statement}) + {modifier_string} = {final_roll})'\n",
    "            fails, hits = count_criticals(roll['result'])\n",
    "            roll['message'] = message\n",
    "\n",
    "# for rolls with advantage we will want to see all the rolls + modifiers\n",
    "        elif roll['dice_sides'] == 20 and roll['advantage'] != 0 and roll['is_modifier'] == 0:\n",
    "            try:\n",
    "                if roll['has_dice_modifier']:\n",
    "                    modifier_2 = roll_list[roll_number+1]['result'].sum() + roll_list[roll_number+1]['modifier']\n",
    "                    if roll_list[roll_number+1]['is_modifier'] == -1:\n",
    "                        modifier_2 = -1 * modifier_2\n",
    "                else:\n",
    "                    modifier_2 = 0\n",
    "            except:\n",
    "                modifier_2 = 0\n",
    "            total_modifier = roll['modifier'] + modifier_2\n",
    "            if roll['advantage'] == 1:\n",
    "                outcomes = [x.max() for x in roll['result']]\n",
    "            if roll['advantage'] == -1:\n",
    "                outcomes = [x.min() for x in roll['result']]\n",
    "            final_outcomes = np.array(outcomes) + total_modifier\n",
    "            final_outcomes_statement = str(final_outcomes)[1:-1].strip().replace('  ', ' ').replace(' ', ' & ')\n",
    "            final_outcomes_formatted = final_outcomes_statement.replace(' & ', '** & **')\n",
    "            # make a string for modifiers\n",
    "            if roll['modifier'] != 0:\n",
    "                modifier_string = ' + ' + str(roll['modifier'])\n",
    "            if modifier_2 != 0:\n",
    "                modifier_string += f' + {str(modifier_2)}'\n",
    "            sum_statement = ''\n",
    "            for i in range(0, len(roll['result'])):\n",
    "                roll_tuple = roll['result'][i]\n",
    "                if roll['advantage'] == 1:\n",
    "                    if i != len(roll['result'])-1:\n",
    "                        sum_statement += f'({roll_tuple.min()} , **{roll_tuple.max()}**){modifier_string} = {final_outcomes[i]}, '\n",
    "                    else:\n",
    "                        sum_statement += f'({roll_tuple.min()} , **{roll_tuple.max()}**){modifier_string} = {final_outcomes[i]}'\n",
    "                if roll['advantage'] == -1:\n",
    "                    if i != len(roll['result'])-1:\n",
    "                        sum_statement += f'(**{roll_tuple.min()}** , {roll_tuple.max()}){modifier_string} = {final_outcomes[i]}, '\n",
    "                    else:\n",
    "                        sum_statement += f'(**{roll_tuple.min()}** , {roll_tuple.max()}){modifier_string} = {final_outcomes[i]}'\n",
    "            message = f' rolled **{final_outcomes_formatted}**. ({sum_statement})'\n",
    "            fails, hits = count_criticals(roll['result'])\n",
    "            message = comment_criticals(message, fails, hits)\n",
    "            roll['message'] = message\n",
    "\n",
    "# for rolls of d20 that do not have advantage, where we want to see each roll + modifiers\n",
    "        elif roll['dice_sides'] == 20 and roll['advantage'] == 0 and roll['is_modifier'] == 0:\n",
    "            try:\n",
    "                if roll['has_dice_modifier']:\n",
    "                    modifier_2 = roll_list[roll_number+1]['result'].sum() + roll_list[roll_number+1]['modifier']\n",
    "                    if roll_list[roll_number+1]['is_modifier'] == -1:\n",
    "                        modifier_2 = -1 * modifier_2\n",
    "                else:\n",
    "                    modifier_2 = 0\n",
    "            except:\n",
    "                modifier_2 = 0\n",
    "            total_modifier = roll['modifier'] + modifier_2\n",
    "            final_outcomes = np.array(roll['result']) + total_modifier\n",
    "            final_outcomes_statement = str(final_outcomes)[1:-1].strip().replace('  ', ' ').replace(' ', ' & ')\n",
    "            final_outcomes_formatted = final_outcomes_statement.replace(' & ', '** & **')\n",
    "            if roll['modifier'] != 0:\n",
    "                modifier_string = ' + ' + str(roll['modifier'])\n",
    "            if modifier_2 != 0:\n",
    "                modifier_string += f' + {str(modifier_2)}'\n",
    "            sum_statement = ''\n",
    "            for i in range(0, len(roll['result'])):\n",
    "                result_str = str(roll['result'][i])\n",
    "                if i != len(roll['result'])-1:\n",
    "                    sum_statement += f'({result_str}){modifier_string} = {final_outcomes[i]}, '\n",
    "                else:\n",
    "                    sum_statement += f'({result_str}){modifier_string} = {final_outcomes[i]}'\n",
    "            message = f' rolled **{final_outcomes_formatted}**. ({sum_statement})'\n",
    "            fails, hits = count_criticals(roll['result'])\n",
    "            message = comment_criticals(message, fails, hits)\n",
    "            roll['message'] = message\n",
    "    roll_number += 1\n",
    "\n",
    "    return roll_list\n",
    "\n",
    "\n",
    "\n"
   ]
  },
  {
   "cell_type": "code",
   "execution_count": 106,
   "metadata": {},
   "outputs": [],
   "source": [
    "example = '4d20a+9, - 2d4, 2d6+5, 3d20d + 1, 3d6+15, 1d6'"
   ]
  },
  {
   "cell_type": "code",
   "execution_count": 140,
   "metadata": {},
   "outputs": [
    {
     "output_type": "execute_result",
     "data": {
      "text/plain": [
       "[{'is_modifier': 0,\n",
       "  'dice_count': 4,\n",
       "  'dice_sides': 20,\n",
       "  'advantage': 1,\n",
       "  'modifier': 9,\n",
       "  'roll_number': 0,\n",
       "  'result': [array([ 7, 16]), array([6, 1]), array([ 9, 12]), array([13, 13])],\n",
       "  'fails': 0,\n",
       "  'hits': 0,\n",
       "  'has_dice_modifier': True,\n",
       "  'message': ' rolled **18 & 8 & 14 & 15**. ((7 , **16**) + 9 + -7 = 18, (1 , **6**) + 9 + -7 = 8, (9 , **12**) + 9 + -7 = 14, (13 , **13**) + 9 + -7 = 15)'},\n",
       " {'is_modifier': -1,\n",
       "  'dice_count': 2,\n",
       "  'dice_sides': 4,\n",
       "  'advantage': 0,\n",
       "  'modifier': 0,\n",
       "  'roll_number': 1,\n",
       "  'result': array([4, 3]),\n",
       "  'fails': 0,\n",
       "  'hits': 0,\n",
       "  'has_dice_modifier': False},\n",
       " {'is_modifier': 0,\n",
       "  'dice_count': 2,\n",
       "  'dice_sides': 6,\n",
       "  'advantage': 0,\n",
       "  'modifier': 5,\n",
       "  'roll_number': 2,\n",
       "  'result': array([6, 6]),\n",
       "  'fails': 0,\n",
       "  'hits': 0,\n",
       "  'has_dice_modifier': False,\n",
       "  'message': ' rolled **17**. ((6 + 6) + 5 = 17)'},\n",
       " {'is_modifier': 0,\n",
       "  'dice_count': 3,\n",
       "  'dice_sides': 20,\n",
       "  'advantage': -1,\n",
       "  'modifier': 1,\n",
       "  'roll_number': 3,\n",
       "  'result': [array([ 5, 12]), array([ 5, 11]), array([ 2, 11])],\n",
       "  'fails': 0,\n",
       "  'hits': 0,\n",
       "  'has_dice_modifier': False,\n",
       "  'message': ' rolled **6 & 6 & 3**. ((**5** , 12) + 1 = 6, (**5** , 11) + 1 = 6, (**2** , 11) + 1 = 3)'},\n",
       " {'is_modifier': 0,\n",
       "  'dice_count': 3,\n",
       "  'dice_sides': 6,\n",
       "  'advantage': 0,\n",
       "  'modifier': 15,\n",
       "  'roll_number': 4,\n",
       "  'result': array([6, 1, 6]),\n",
       "  'fails': 0,\n",
       "  'hits': 0,\n",
       "  'has_dice_modifier': False,\n",
       "  'message': ' rolled **28**. ((6 + 1 + 6) + 15 = 28)'},\n",
       " {'is_modifier': 0,\n",
       "  'dice_count': 1,\n",
       "  'dice_sides': 6,\n",
       "  'advantage': 0,\n",
       "  'modifier': 0,\n",
       "  'roll_number': 5,\n",
       "  'result': array([1]),\n",
       "  'fails': 0,\n",
       "  'hits': 0,\n",
       "  'has_dice_modifier': False,\n",
       "  'message': ' rolled **1**.'}]"
      ]
     },
     "metadata": {},
     "execution_count": 140
    }
   ],
   "source": [
    "roll_them_dice(example)"
   ]
  },
  {
   "cell_type": "code",
   "execution_count": 90,
   "metadata": {},
   "outputs": [
    {
     "output_type": "execute_result",
     "data": {
      "text/plain": [
       "['4d20a+9', ' + 2d4', ' 2d6+5', ' 3d20 + 1', ' 3d6+15']"
      ]
     },
     "metadata": {},
     "execution_count": 90
    }
   ],
   "source": [
    "split_input(example)"
   ]
  },
  {
   "cell_type": "code",
   "execution_count": 182,
   "metadata": {},
   "outputs": [
    {
     "output_type": "execute_result",
     "data": {
      "text/plain": [
       "[{'is_modifier': 0,\n",
       "  'dice_count': 2,\n",
       "  'dice_sides': 20,\n",
       "  'advantage': 1,\n",
       "  'modifier': 4,\n",
       "  'roll_number': 0},\n",
       " {'is_modifier': 1,\n",
       "  'dice_count': 2,\n",
       "  'dice_sides': 4,\n",
       "  'advantage': 0,\n",
       "  'modifier': 0,\n",
       "  'roll_number': 1},\n",
       " {'is_modifier': 0,\n",
       "  'dice_count': 2,\n",
       "  'dice_sides': 6,\n",
       "  'advantage': 0,\n",
       "  'modifier': 5,\n",
       "  'roll_number': 2},\n",
       " {'is_modifier': 0,\n",
       "  'dice_count': 1,\n",
       "  'dice_sides': 6,\n",
       "  'advantage': 0,\n",
       "  'modifier': 0,\n",
       "  'roll_number': 3}]"
      ]
     },
     "metadata": {},
     "execution_count": 182
    }
   ],
   "source": [
    "roll_list = []\n",
    "roll_number = 0\n",
    "\n",
    "for roll in split_input(example):\n",
    "    roll_dict = {}\n",
    "    roll_dict['is_modifier'] = check_if_modifier(roll)\n",
    "    if roll_dict['is_modifier'] == 0:\n",
    "        roll_dict['dice_count'], roll_dict['dice_sides'], roll_dict['advantage'], roll_dict['modifier'] = split_roll(roll)\n",
    "        roll_dict['roll_number'] = roll_number\n",
    "        roll_list.append(roll_dict)\n",
    "        roll_number += 1\n",
    "    else: \n",
    "        roll_dict['dice_count'], roll_dict['dice_sides'], roll_dict['advantage'], roll_dict['modifier'] = split_roll(roll.strip()[1:])\n",
    "        roll_dict['roll_number'] = roll_number\n",
    "        roll_list.append(roll_dict)\n",
    "        roll_number += 1\n",
    "\n",
    "roll_list"
   ]
  },
  {
   "cell_type": "code",
   "execution_count": 132,
   "metadata": {},
   "outputs": [
    {
     "output_type": "error",
     "ename": "NameError",
     "evalue": "name 'roll_list' is not defined",
     "traceback": [
      "\u001b[1;31m---------------------------------------------------------------------------\u001b[0m",
      "\u001b[1;31mNameError\u001b[0m                                 Traceback (most recent call last)",
      "\u001b[1;32m<ipython-input-132-9fc766b90b3e>\u001b[0m in \u001b[0;36m<module>\u001b[1;34m\u001b[0m\n\u001b[1;32m----> 1\u001b[1;33m \u001b[1;32mfor\u001b[0m \u001b[0mroll\u001b[0m \u001b[1;32min\u001b[0m \u001b[0mroll_list\u001b[0m\u001b[1;33m:\u001b[0m\u001b[1;33m\u001b[0m\u001b[1;33m\u001b[0m\u001b[0m\n\u001b[0m\u001b[0;32m      2\u001b[0m     \u001b[0mroll\u001b[0m\u001b[1;33m[\u001b[0m\u001b[1;34m'result'\u001b[0m\u001b[1;33m]\u001b[0m\u001b[1;33m,\u001b[0m \u001b[0mroll\u001b[0m\u001b[1;33m[\u001b[0m\u001b[1;34m'fails'\u001b[0m\u001b[1;33m]\u001b[0m\u001b[1;33m,\u001b[0m \u001b[0mroll\u001b[0m\u001b[1;33m[\u001b[0m\u001b[1;34m'hits'\u001b[0m\u001b[1;33m]\u001b[0m \u001b[1;33m=\u001b[0m \u001b[0mroll_dice\u001b[0m\u001b[1;33m(\u001b[0m\u001b[0mroll\u001b[0m\u001b[1;33m[\u001b[0m\u001b[1;34m'dice_count'\u001b[0m\u001b[1;33m]\u001b[0m\u001b[1;33m,\u001b[0m \u001b[0mroll\u001b[0m\u001b[1;33m[\u001b[0m\u001b[1;34m'dice_sides'\u001b[0m\u001b[1;33m]\u001b[0m\u001b[1;33m,\u001b[0m \u001b[0mroll\u001b[0m\u001b[1;33m[\u001b[0m\u001b[1;34m'advantage'\u001b[0m\u001b[1;33m]\u001b[0m\u001b[1;33m)\u001b[0m\u001b[1;33m\u001b[0m\u001b[1;33m\u001b[0m\u001b[0m\n\u001b[0;32m      3\u001b[0m \u001b[1;33m\u001b[0m\u001b[0m\n\u001b[0;32m      4\u001b[0m \u001b[0mcheck_if_dice_modifier\u001b[0m\u001b[1;33m(\u001b[0m\u001b[0mroll_list\u001b[0m\u001b[1;33m)\u001b[0m\u001b[1;33m\u001b[0m\u001b[1;33m\u001b[0m\u001b[0m\n\u001b[0;32m      5\u001b[0m \u001b[0mroll_list\u001b[0m\u001b[1;33m\u001b[0m\u001b[1;33m\u001b[0m\u001b[0m\n",
      "\u001b[1;31mNameError\u001b[0m: name 'roll_list' is not defined"
     ]
    }
   ],
   "source": [
    "for roll in roll_list:\n",
    "    roll['result'], roll['fails'], roll['hits'] = roll_dice(roll['dice_count'], roll['dice_sides'], roll['advantage'])\n",
    "\n",
    "check_if_dice_modifier(roll_list)\n",
    "roll_list"
   ]
  },
  {
   "cell_type": "code",
   "execution_count": 104,
   "metadata": {},
   "outputs": [
    {
     "output_type": "execute_result",
     "data": {
      "text/plain": [
       "'15** & **6** & **9'"
      ]
     },
     "metadata": {},
     "execution_count": 104
    }
   ],
   "source": [
    "statement = '15 & 6 & 9'\n",
    "statement.replace(' & ', '** & **')"
   ]
  },
  {
   "source": [
    "to build a message\n",
    "\n",
    "first check if it was rolled with advantage\n",
    "if so, you will want the message to display a bunch of different scores, (the outcome of each roll + the modifier)\n",
    "\n",
    "if not, you will want to display a single sum for all the dice (eg as in a damage roll)"
   ],
   "cell_type": "markdown",
   "metadata": {}
  },
  {
   "cell_type": "code",
   "execution_count": 171,
   "metadata": {},
   "outputs": [
    {
     "output_type": "execute_result",
     "data": {
      "text/plain": [
       "(3, 7)"
      ]
     },
     "metadata": {},
     "execution_count": 171
    }
   ],
   "source": [
    "roll_list[0]['result'][0].min(), roll_list[0]['result'][0].max()"
   ]
  },
  {
   "cell_type": "code",
   "execution_count": 172,
   "metadata": {},
   "outputs": [
    {
     "output_type": "execute_result",
     "data": {
      "text/plain": [
       "[7, 15]"
      ]
     },
     "metadata": {},
     "execution_count": 172
    }
   ],
   "source": [
    "[x.max() for x in roll_list[0]['result']]"
   ]
  },
  {
   "cell_type": "code",
   "execution_count": 170,
   "metadata": {},
   "outputs": [
    {
     "output_type": "error",
     "ename": "TypeError",
     "evalue": "Cannot interpret '3' as a data type",
     "traceback": [
      "\u001b[1;31m---------------------------------------------------------------------------\u001b[0m",
      "\u001b[1;31mTypeError\u001b[0m                                 Traceback (most recent call last)",
      "\u001b[1;32m<ipython-input-170-ea5ecef82386>\u001b[0m in \u001b[0;36m<module>\u001b[1;34m\u001b[0m\n\u001b[1;32m----> 1\u001b[1;33m \u001b[0mbird\u001b[0m \u001b[1;33m=\u001b[0m \u001b[1;33m[\u001b[0m\u001b[0mnp\u001b[0m\u001b[1;33m.\u001b[0m\u001b[0marray\u001b[0m\u001b[1;33m(\u001b[0m\u001b[1;36m5\u001b[0m\u001b[1;33m,\u001b[0m \u001b[1;36m3\u001b[0m\u001b[1;33m)\u001b[0m\u001b[1;33m,\u001b[0m \u001b[0mnp\u001b[0m\u001b[1;33m.\u001b[0m\u001b[0marray\u001b[0m\u001b[1;33m(\u001b[0m\u001b[1;36m18\u001b[0m\u001b[1;33m,\u001b[0m \u001b[1;36m14\u001b[0m\u001b[1;33m)\u001b[0m\u001b[1;33m]\u001b[0m\u001b[1;33m\u001b[0m\u001b[1;33m\u001b[0m\u001b[0m\n\u001b[0m\u001b[0;32m      2\u001b[0m \u001b[1;33m[\u001b[0m\u001b[0mx\u001b[0m\u001b[1;33m.\u001b[0m\u001b[0mmax\u001b[0m\u001b[1;33m(\u001b[0m\u001b[1;33m)\u001b[0m \u001b[1;32mfor\u001b[0m \u001b[0mx\u001b[0m \u001b[1;32min\u001b[0m \u001b[0mbird\u001b[0m\u001b[1;33m]\u001b[0m\u001b[1;33m\u001b[0m\u001b[1;33m\u001b[0m\u001b[0m\n",
      "\u001b[1;31mTypeError\u001b[0m: Cannot interpret '3' as a data type"
     ]
    }
   ],
   "source": [
    "bird = [np.array([5, 3]), np.array([18, 14])]\n",
    "[x.max() for x in bird]"
   ]
  },
  {
   "cell_type": "code",
   "execution_count": 28,
   "metadata": {},
   "outputs": [
    {
     "output_type": "execute_result",
     "data": {
      "text/plain": [
       "'30, 32'"
      ]
     },
     "metadata": {},
     "execution_count": 28
    }
   ],
   "source": [
    "str(final_outcomes)[1:-1].replace(' ', ', ')"
   ]
  },
  {
   "cell_type": "code",
   "execution_count": null,
   "metadata": {},
   "outputs": [],
   "source": []
  },
  {
   "cell_type": "code",
   "execution_count": null,
   "metadata": {},
   "outputs": [],
   "source": [
    "def build_message(rolls, modifier, fails, hits, advantage):\n",
    "    if advantage == True:\n",
    "        maximums = [x.max() for x in rolls]\n",
    "        final_roll = np.array(maximums).sum() + modifier\n",
    "        sum_statement = ''\n",
    "        for i in range(0, len(rolls)):\n",
    "            if i != len(rolls)-1:\n",
    "                sum_statement += f'({rolls[i].min()} , **{rolls[i].max()}**) + '\n",
    "            else:\n",
    "                sum_statement += f'({rolls[i].min()} , **{rolls[i].max()}**)'\n",
    "        message = f' rolled **{final_roll}**. ({sum_statement}) + {modifier} = {final_roll})'\n",
    "    else:    \n",
    "        final_roll = rolls.sum() + modifier\n",
    "        sum_statement = ''\n",
    "        for i in range(0, len(rolls)):\n",
    "            if i != len(rolls)-1:\n",
    "                sum_statement += f'{rolls[i]} + '\n",
    "            else:\n",
    "                sum_statement += str(rolls[i])\n",
    "        message = f' rolled **{final_roll}**. (({sum_statement}) + {modifier} = {final_roll})'\n",
    "    if fails == 1:\n",
    "        message += f'. 1 CRITICAL FAILURE'\n",
    "    if hits == 1:\n",
    "        message += f'. 1 CRITICAL SUCCESS'\n",
    "    if fails > 1:\n",
    "        message += f'. {fails} CRITICAL FAILURES'\n",
    "    if hits > 1:\n",
    "        message += f'. {hits} CRITICAL SUCCESSES!'\n",
    "    return message"
   ]
  },
  {
   "cell_type": "code",
   "execution_count": null,
   "metadata": {},
   "outputs": [],
   "source": []
  },
  {
   "cell_type": "code",
   "execution_count": null,
   "metadata": {},
   "outputs": [],
   "source": [
    "def build_message(rolls, modifier, fails, hits, advantage):\n",
    "    if advantage == True:\n",
    "        maximums = [x.max() for x in rolls]\n",
    "        final_roll = np.array(maximums).sum() + modifier\n",
    "        sum_statement = ''\n",
    "        for i in range(0, len(rolls)):\n",
    "            if i != len(rolls)-1:\n",
    "                sum_statement += f'({rolls[i].min()} , **{rolls[i].max()}**) + '\n",
    "            else:\n",
    "                sum_statement += f'({rolls[i].min()} , **{rolls[i].max()}**)'\n",
    "        message = f' rolled **{final_roll}**. ({sum_statement}) + {modifier} = {final_roll})'\n",
    "    else:    \n",
    "        final_roll = rolls.sum() + modifier\n",
    "        sum_statement = ''\n",
    "        for i in range(0, len(rolls)):\n",
    "            if i != len(rolls)-1:\n",
    "                sum_statement += f'{rolls[i]} + '\n",
    "            else:\n",
    "                sum_statement += str(rolls[i])\n",
    "        message = f' rolled **{final_roll}**. (({sum_statement}) + {modifier} = {final_roll})'\n",
    "    return message"
   ]
  },
  {
   "cell_type": "code",
   "execution_count": 12,
   "metadata": {},
   "outputs": [],
   "source": [
    "def check_if_dice_modifier(roll_list):\n",
    "    for i in range(0, len(roll_list)):\n",
    "        if i != len(roll_list)-1:\n",
    "            if roll_list[i+1]['is_modifier'] == 1 or roll_list[i+1]['is_modifier'] == -1:\n",
    "                roll_list[i]['has_dice_modifier'] = True\n",
    "            else:\n",
    "                roll_list[i]['has_dice_modifier'] = False\n",
    "    else:\n",
    "         roll_list[i]['has_dice_modifier'] = False\n"
   ]
  },
  {
   "cell_type": "code",
   "execution_count": 61,
   "metadata": {},
   "outputs": [
    {
     "output_type": "execute_result",
     "data": {
      "text/plain": [
       "2"
      ]
     },
     "metadata": {},
     "execution_count": 61
    }
   ],
   "source": [
    "len(roll_list)-1"
   ]
  },
  {
   "cell_type": "code",
   "execution_count": 63,
   "metadata": {},
   "outputs": [
    {
     "output_type": "execute_result",
     "data": {
      "text/plain": [
       "{'is_modifier': 1,\n",
       " 'dice_count': 2,\n",
       " 'dice_sides': 4,\n",
       " 'advantage': 0,\n",
       " 'modifier': 0,\n",
       " 'roll_number': 1,\n",
       " 'result': array([4, 3]),\n",
       " 'fails': 0,\n",
       " 'hits': 0}"
      ]
     },
     "metadata": {},
     "execution_count": 63
    }
   ],
   "source": [
    "roll_list[0+1]"
   ]
  },
  {
   "cell_type": "code",
   "execution_count": 8,
   "metadata": {},
   "outputs": [
    {
     "output_type": "execute_result",
     "data": {
      "text/plain": [
       "[{'is_modifier': 0,\n",
       "  'dice_count': 2,\n",
       "  'dice_sides': 6,\n",
       "  'advantage': 0,\n",
       "  'modifier': 0,\n",
       "  'roll_number': 0,\n",
       "  'result': array([5, 6]),\n",
       "  'fails': 0,\n",
       "  'hits': 0,\n",
       "  'has_dice_modifier': False,\n",
       "  'message': ' rolled **11**. ((5 + 6) + 0 = 11)'}]"
      ]
     },
     "metadata": {},
     "execution_count": 8
    }
   ],
   "source": [
    "message = '!r 2d6'\n",
    "shave = message[2:]\n",
    "roll_them_dice(shave)"
   ]
  },
  {
   "cell_type": "code",
   "execution_count": 202,
   "metadata": {},
   "outputs": [
    {
     "output_type": "execute_result",
     "data": {
      "text/plain": [
       "['', '342']"
      ]
     },
     "metadata": {},
     "execution_count": 202
    }
   ],
   "source": [
    "'d342'.split('d')"
   ]
  },
  {
   "cell_type": "code",
   "execution_count": 6,
   "metadata": {},
   "outputs": [
    {
     "output_type": "execute_result",
     "data": {
      "text/plain": [
       "('!d ', '2d5')"
      ]
     },
     "metadata": {},
     "execution_count": 6
    }
   ],
   "source": [
    "command = '!d 2d5'\n",
    "command[0:3], command[3:]"
   ]
  },
  {
   "cell_type": "code",
   "execution_count": null,
   "metadata": {},
   "outputs": [],
   "source": []
  },
  {
   "cell_type": "code",
   "execution_count": null,
   "metadata": {},
   "outputs": [],
   "source": [
    "if modifier_2 "
   ]
  }
 ]
}